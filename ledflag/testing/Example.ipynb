{
 "cells": [
  {
   "cell_type": "code",
   "execution_count": 1,
   "metadata": {},
   "outputs": [],
   "source": [
    "# Imports\n",
    "from ledflag.controller.controller import LedController\n",
    "from ledflag.controller.text import *\n",
    "from ledflag.bridge.message import *\n",
    "from time import time\n",
    "\n",
    "# Returns false after t seconds\n",
    "def time_expire(t):\n",
    "    start = time()\n",
    "    return lambda: time() - start < t\n",
    "\n",
    "# Testing my DisplayScrollingText function!\n",
    "# (could also be done inline)\n",
    "\n",
    "# Create the corresponding message\n",
    "msg = DisplayScrollingText(\"ledflag\")\n",
    "\n",
    "# Create the controller\n",
    "controlr = LedController()\n",
    "\n",
    "# Test the display_scrolling_text function with the given message\n",
    "# and stop after 6 seconds\n",
    "controlr.run_msg(msg, display_scrolling_text, free=time_expire(6))\n",
    "\n",
    "# Clear when done\n",
    "controlr.clear()"
   ]
  },
  {
   "cell_type": "code",
   "execution_count": null,
   "metadata": {},
   "outputs": [],
   "source": []
  },
  {
   "cell_type": "code",
   "execution_count": null,
   "metadata": {},
   "outputs": [],
   "source": []
  },
  {
   "cell_type": "code",
   "execution_count": null,
   "metadata": {},
   "outputs": [],
   "source": []
  },
  {
   "cell_type": "code",
   "execution_count": null,
   "metadata": {},
   "outputs": [],
   "source": []
  },
  {
   "cell_type": "code",
   "execution_count": null,
   "metadata": {},
   "outputs": [],
   "source": []
  },
  {
   "cell_type": "code",
   "execution_count": null,
   "metadata": {},
   "outputs": [],
   "source": []
  },
  {
   "cell_type": "code",
   "execution_count": null,
   "metadata": {},
   "outputs": [],
   "source": []
  }
 ],
 "metadata": {
  "kernelspec": {
   "display_name": "Python 3",
   "language": "python",
   "name": "python3"
  },
  "language_info": {
   "codemirror_mode": {
    "name": "ipython",
    "version": 3
   },
   "file_extension": ".py",
   "mimetype": "text/x-python",
   "name": "python",
   "nbconvert_exporter": "python",
   "pygments_lexer": "ipython3",
   "version": "3.7.3"
  }
 },
 "nbformat": 4,
 "nbformat_minor": 2
}
