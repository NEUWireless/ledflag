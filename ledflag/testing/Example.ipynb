{
 "cells": [
  {
   "cell_type": "code",
   "execution_count": 1,
   "metadata": {
    "pycharm": {
     "name": "#%%\n"
    }
   },
   "outputs": [],
   "source": [
    "# Imports\n",
    "from rgbmatrix import RGBMatrix\n",
    "from flask_socketio import SocketIO\n",
    "from ledflag.controller.controller import LedController\n",
    "from ledflag.controller.modes.mode import Mode, Args\n",
    "from ledflag.bridge.message import Instruction\n",
    "from typing import Tuple\n",
    "\n",
    "\n",
    "class TestArgs(Args):\n",
    "    \n",
    "    def __init__(self, c1: Tuple[int, int, int], c2: Tuple[int, int, int]):\n",
    "        super().__init__()\n",
    "        self.c1 = c1\n",
    "        self.c2 = c2\n",
    "\n",
    "\n",
    "class TestMode(Mode):\n",
    "    \n",
    "    def __init__(self, matrix: RGBMatrix, socketio: SocketIO):\n",
    "        super().__init__(matrix, socketio)\n",
    "    \n",
    "    def run(self, args: TestArgs, **kwargs):\n",
    "        free = kwargs['free']\n",
    "        i = 0\n",
    "        gradient = self.generate_gradient(args.c1, args.c2, i)\n",
    "        while free():\n",
    "            for y in range(i):\n",
    "                for x in range(i):\n",
    "                    self.matrix.SetPixel()\n",
    "    \n",
    "    @staticmethod\n",
    "    def generate_gradient(c1: Tuple[int, int, int], c2: Tuple[int, int, int], length: int):\n",
    "        step = tuple(map(lambda a, b: (b - a) / length, c1, c2))\n",
    "        return [tuple(round(c1[i] + step[i] * n) for i in range(3)) for n in range(length)]\n",
    "        \n",
    "\n",
    "controller = LedController()\n",
    "instruction = Instruction(TestMode, TestArgs())\n",
    "\n",
    "controller.job_handler(instruction)"
   ]
  }
 ],
 "metadata": {
  "kernelspec": {
   "display_name": "Python 3",
   "language": "python",
   "name": "python3"
  },
  "language_info": {
   "codemirror_mode": {
    "name": "ipython",
    "version": 3
   },
   "file_extension": ".py",
   "mimetype": "text/x-python",
   "name": "python",
   "nbconvert_exporter": "python",
   "pygments_lexer": "ipython3",
   "version": "3.7.3"
  },
  "pycharm": {
   "stem_cell": {
    "cell_type": "raw",
    "source": [],
    "metadata": {
     "collapsed": false
    }
   }
  }
 },
 "nbformat": 4,
 "nbformat_minor": 2
}